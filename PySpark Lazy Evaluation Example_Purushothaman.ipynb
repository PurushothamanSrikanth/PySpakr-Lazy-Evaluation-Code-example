{
 "cells": [
  {
   "cell_type": "code",
   "execution_count": 1,
   "id": "544d119d-60fb-4fad-aa72-55ce4cb2c155",
   "metadata": {},
   "outputs": [],
   "source": [
    "import findspark\n",
    "findspark.init()\n",
    "\n",
    "import pyspark\n",
    "from pyspark.sql import *"
   ]
  },
  {
   "cell_type": "code",
   "execution_count": 2,
   "id": "32721eec-83aa-44ca-8f62-28fc0fe49c8c",
   "metadata": {},
   "outputs": [],
   "source": [
    "# Create a new SparkSession\n",
    "spark = SparkSession.builder.appName(\"Purushothaman_Spark_Example_App\").getOrCreate()"
   ]
  },
  {
   "cell_type": "code",
   "execution_count": 3,
   "id": "190641fe-34ba-420b-ae23-d22a14feba48",
   "metadata": {},
   "outputs": [],
   "source": [
    "# Create an RDD from a list of numbers\n",
    "numbers_rdd = spark.sparkContext.parallelize([1, 2, 3, 4, 5, 6, 7, 8, 9, 10])"
   ]
  },
  {
   "cell_type": "code",
   "execution_count": 4,
   "id": "073c0b94-930c-4526-bb30-53d7584b38b0",
   "metadata": {},
   "outputs": [],
   "source": [
    "# Transformation 1: Filtering Even Numbers\n",
    "filtered_rdd = numbers_rdd.filter(lambda x: x % 2 == 0)"
   ]
  },
  {
   "cell_type": "code",
   "execution_count": 5,
   "id": "c042c04c-34cb-4437-9401-e1ef574af2cc",
   "metadata": {},
   "outputs": [],
   "source": [
    "# Transformation 2: Map each of the Number to its Square\n",
    "squared_rdd = filtered_rdd.map(lambda x: x ** 2)"
   ]
  },
  {
   "cell_type": "code",
   "execution_count": 6,
   "id": "40594aee-54bf-45d1-b654-5573bdf41dbb",
   "metadata": {},
   "outputs": [],
   "source": [
    "# Action: Collect the Squared Numbers into a Python list\n",
    "squared_numbers = squared_rdd.collect()"
   ]
  },
  {
   "cell_type": "code",
   "execution_count": 7,
   "id": "72aafba3-3ff0-402e-9147-cbc34577a105",
   "metadata": {},
   "outputs": [
    {
     "name": "stdout",
     "output_type": "stream",
     "text": [
      "Squared Numbers: [4, 16, 36, 64, 100]\n"
     ]
    }
   ],
   "source": [
    "# Print the Squared Numbers\n",
    "print(\"Squared Numbers:\", squared_numbers)"
   ]
  },
  {
   "cell_type": "code",
   "execution_count": 8,
   "id": "a91f451c-9624-44c0-8e09-5217cb725fd7",
   "metadata": {},
   "outputs": [],
   "source": [
    "# Stopping the SparkSession\n",
    "spark.stop()"
   ]
  }
 ],
 "metadata": {
  "kernelspec": {
   "display_name": "Python 3 (ipykernel)",
   "language": "python",
   "name": "python3"
  },
  "language_info": {
   "codemirror_mode": {
    "name": "ipython",
    "version": 3
   },
   "file_extension": ".py",
   "mimetype": "text/x-python",
   "name": "python",
   "nbconvert_exporter": "python",
   "pygments_lexer": "ipython3",
   "version": "3.10.0"
  }
 },
 "nbformat": 4,
 "nbformat_minor": 5
}
